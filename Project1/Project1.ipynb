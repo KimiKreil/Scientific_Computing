{
 "cells": [
  {
   "cell_type": "markdown",
   "id": "c1fca882",
   "metadata": {},
   "source": [
    "Project 1 -\n",
    "Kimi Cardoso Kreilgaard (twn176)"
   ]
  },
  {
   "cell_type": "code",
   "execution_count": 32,
   "id": "28bdec2c",
   "metadata": {
    "ExecuteTime": {
     "end_time": "2021-09-17T14:15:37.752584Z",
     "start_time": "2021-09-17T14:15:36.780006Z"
    }
   },
   "outputs": [],
   "source": [
    "import numpy as np\n",
    "import matplotlib.pyplot as plt"
   ]
  },
  {
   "cell_type": "markdown",
   "id": "f96d4ef4",
   "metadata": {
    "ExecuteTime": {
     "end_time": "2021-09-08T11:41:18.532093Z",
     "start_time": "2021-09-08T11:41:18.515254Z"
    }
   },
   "source": [
    "# Data"
   ]
  },
  {
   "cell_type": "code",
   "execution_count": 2,
   "id": "4d83e448",
   "metadata": {
    "ExecuteTime": {
     "end_time": "2021-09-17T14:01:35.205749Z",
     "start_time": "2021-09-17T14:01:35.194010Z"
    }
   },
   "outputs": [],
   "source": [
    "# Defining the submatrices A, B and y\n",
    "A_mat = np.array([\n",
    "    [22.13831203, 0.16279204, 0.02353879, 0.02507880,-0.02243145,-0.02951967,-0.02401863],\n",
    "    [0.16279204, 29.41831006, 0.02191543,-0.06341569, 0.02192010, 0.03284020, 0.03014052],\n",
    "    [0.02353879,  0.02191543, 1.60947260,-0.01788177, 0.07075279, 0.03659182, 0.06105488],\n",
    "    [0.02507880, -0.06341569,-0.01788177, 9.36187184,-0.07751218, 0.00541094,-0.10660903],\n",
    "    [-0.02243145, 0.02192010, 0.07075279,-0.07751218, 0.71033323, 0.10958126, 0.12061597],\n",
    "    [-0.02951967, 0.03284020, 0.03659182, 0.00541094, 0.10958126, 8.38326265, 0.06673979],\n",
    "    [-0.02401863, 0.03014052, 0.06105488,-0.10660903, 0.12061597, 0.06673979, 1.15733569]]);\n",
    "\n",
    "B_mat = np.array([\n",
    "    [-0.03423002, 0.09822473,-0.00832308,-0.02524951,-0.00015116, 0.05321264, 0.01834117],\n",
    "    [ 0.09822473,-0.51929354,-0.02050445, 0.10769768,-0.02394699,-0.04550922,-0.02907560],\n",
    "    [-0.00832308,-0.02050445,-0.11285991, 0.04843759,-0.06732213,-0.08106876,-0.13042524],\n",
    "    [-0.02524951, 0.10769768, 0.04843759,-0.10760461, 0.09008724, 0.05284246, 0.10728227],\n",
    "    [-0.00015116,-0.02394699,-0.06732213, 0.09008724,-0.07596617,-0.02290627,-0.12421902],\n",
    "    [ 0.05321264,-0.04550922,-0.08106876, 0.05284246,-0.02290627,-0.07399581,-0.07509467],\n",
    "    [ 0.01834117,-0.02907560,-0.13042524, 0.10728227,-0.12421902,-0.07509467,-0.16777868]]);\n",
    "\n",
    "y_vec = np.array([-0.05677315,-0.00902581, 0.16002152, 0.07001784, 0.67801388,-0.10904168, 0.90505180]);"
   ]
  },
  {
   "cell_type": "code",
   "execution_count": 3,
   "id": "7d046004",
   "metadata": {
    "ExecuteTime": {
     "end_time": "2021-09-17T14:01:35.212252Z",
     "start_time": "2021-09-17T14:01:35.208273Z"
    }
   },
   "outputs": [
    {
     "name": "stdout",
     "output_type": "stream",
     "text": [
      "(14, 14)\n"
     ]
    }
   ],
   "source": [
    "# Construct the matrices E\n",
    "E_mat = np.block([ [A_mat, B_mat], [B_mat, A_mat] ])\n",
    "\n",
    "# Check the shape of Emat\n",
    "print(np.shape(E_mat))"
   ]
  },
  {
   "cell_type": "markdown",
   "id": "fcdb54ff",
   "metadata": {
    "ExecuteTime": {
     "end_time": "2021-09-08T11:53:20.297980Z",
     "start_time": "2021-09-08T11:53:20.288922Z"
    }
   },
   "source": [
    "Since we can only subtract matrices of the same dimensions I assume the identity matrix $\\mathbf{I}$ and the zero-matrix $\\mathbf{0}$ should have dimenssions each 7x7"
   ]
  },
  {
   "cell_type": "code",
   "execution_count": 4,
   "id": "5dd1a413",
   "metadata": {
    "ExecuteTime": {
     "end_time": "2021-09-17T14:01:35.219177Z",
     "start_time": "2021-09-17T14:01:35.214356Z"
    }
   },
   "outputs": [
    {
     "name": "stdout",
     "output_type": "stream",
     "text": [
      "(14, 14)\n"
     ]
    }
   ],
   "source": [
    "# Construct the matrix S\n",
    "ZERO_mat = np.zeros([7,7])\n",
    "I_mat = np.identity(7)\n",
    "\n",
    "S_mat = np.block([ [I_mat, ZERO_mat], [ZERO_mat, -I_mat] ])\n",
    "\n",
    "# Chech shape\n",
    "print(np.shape(S_mat))"
   ]
  },
  {
   "cell_type": "code",
   "execution_count": 5,
   "id": "38f93dcc",
   "metadata": {
    "ExecuteTime": {
     "end_time": "2021-09-17T14:01:35.225094Z",
     "start_time": "2021-09-17T14:01:35.221353Z"
    }
   },
   "outputs": [
    {
     "name": "stdout",
     "output_type": "stream",
     "text": [
      "(14,)\n"
     ]
    }
   ],
   "source": [
    "# Construct the vector z\n",
    "z_vec = np.concatenate([ [y_vec],[-y_vec] ], axis=1).flatten()\n",
    "\n",
    "# Check shape\n",
    "print(np.shape(z_vec))"
   ]
  },
  {
   "cell_type": "markdown",
   "id": "3b3f44ae",
   "metadata": {
    "ExecuteTime": {
     "end_time": "2021-09-08T12:06:04.831117Z",
     "start_time": "2021-09-08T12:06:04.826349Z"
    }
   },
   "source": [
    "# Questions for Week 1"
   ]
  },
  {
   "cell_type": "markdown",
   "id": "233a693a",
   "metadata": {},
   "source": [
    "## A(1)"
   ]
  },
  {
   "cell_type": "markdown",
   "id": "494df656",
   "metadata": {},
   "source": [
    "Write a small function that computes the condition number of a matrix under the maxnorm:\n",
    "$$ cond_{\\infty}(\\mathbf{M}) = ||M||_{\\infty} ||M^{-1}||_{\\infty} $$\n",
    "\n",
    "The infinity norm = the maximum absolute row sum. Put simply, we sum the absolute values along each row and then take the biggest answer."
   ]
  },
  {
   "cell_type": "code",
   "execution_count": 6,
   "id": "9f973932",
   "metadata": {
    "ExecuteTime": {
     "end_time": "2021-09-17T14:01:35.230145Z",
     "start_time": "2021-09-17T14:01:35.226685Z"
    }
   },
   "outputs": [],
   "source": [
    "# Function to calculate the max norm\n",
    "def max_norm(M):\n",
    "    \n",
    "    # Get the absolute value of the matrix\n",
    "    M_abs = np.absolute(M)\n",
    "    \n",
    "    # Sum each row of the absolute matrix\n",
    "    M_sum = np.sum(M_abs, axis=1)\n",
    "    \n",
    "    # Return the largest row sum\n",
    "    return np.max(M_sum) "
   ]
  },
  {
   "cell_type": "code",
   "execution_count": 7,
   "id": "b2b352a5",
   "metadata": {
    "ExecuteTime": {
     "end_time": "2021-09-17T14:01:35.235318Z",
     "start_time": "2021-09-17T14:01:35.231956Z"
    }
   },
   "outputs": [],
   "source": [
    "# We define a function to do calculate the condition number of a matrix\n",
    "def cond(M):\n",
    "    \n",
    "    # Calculate the inverse matrix M^-1\n",
    "    Minv = np.linalg.inv(M)\n",
    "    \n",
    "    # Calculate the max norms and multiply them together to get the condition number\n",
    "    cond_number = max_norm(M) * max_norm(Minv)\n",
    "    \n",
    "    return cond_number"
   ]
  },
  {
   "cell_type": "markdown",
   "id": "394e90cd",
   "metadata": {},
   "source": [
    "## A(2)"
   ]
  },
  {
   "cell_type": "markdown",
   "id": "c77b229d",
   "metadata": {},
   "source": [
    "For three frequencies, calculate the condition number for the matrix $\\mathbf{E}-\\omega \\mathbf{S}$."
   ]
  },
  {
   "cell_type": "code",
   "execution_count": 8,
   "id": "6eb14f37",
   "metadata": {
    "ExecuteTime": {
     "end_time": "2021-09-17T14:01:35.240575Z",
     "start_time": "2021-09-17T14:01:35.238109Z"
    }
   },
   "outputs": [],
   "source": [
    "# Define the three frequencies\n",
    "omegas = [1.300, 1.607, 2.700]"
   ]
  },
  {
   "cell_type": "code",
   "execution_count": 9,
   "id": "1e863db9",
   "metadata": {
    "ExecuteTime": {
     "end_time": "2021-09-17T14:01:35.257479Z",
     "start_time": "2021-09-17T14:01:35.242682Z"
    }
   },
   "outputs": [
    {
     "name": "stdout",
     "output_type": "stream",
     "text": [
      "[303.0741906688338, 327825.2278438225, 35.55204847098013]\n"
     ]
    }
   ],
   "source": [
    "# Lets calculate the condition numbers\n",
    "condition_numbers = [cond(E_mat - omegas[i] * S_mat) for i in np.arange(3)]\n",
    "print(condition_numbers)"
   ]
  },
  {
   "cell_type": "markdown",
   "id": "066e1e25",
   "metadata": {},
   "source": [
    "The right-hand-side z is given with 8 significant digits. How many significant digits could we guarantee in the solution x if everything else were assumed exact? Why?\n",
    "\n",
    "Since we only have an uncertainty in z the condition something formula becomes:\n",
    "$$ \\frac{\\left|\\left|\\Delta x\\right|\\right|_{\\infty}}{\\left|\\left|x\\right|\\right|_{\\infty}}  = cond_{\\infty}(\\mathbf{E}-\\omega\\mathbf{S})  \\frac{\\left|\\left|\\Delta z\\right|\\right|_{\\infty}}{\\left|\\left|z\\right|\\right|_{\\infty}} $$\n",
    "\n",
    "We are told that z is given with 8 significant digits, thus we know that $\\left|\\left| \\frac{\\Delta z}{z} \\right|\\right|_{\\infty} = 10^{-8}$ \n",
    "\n",
    "To answer how many significant digits we can guarantee in the solution x, we need to calculate the left hand side (the relative output) for each omega and take the negative log10 to the LHS. The reason we take the negative log10 is that we are interested in the difference in digits of x and delta x.\n",
    "\n",
    "For example, let's say we know that:\n",
    "$x=10^a$ and $\\sigma=10^b$, the we know that the fractional error is:\n",
    "$$ \\frac{sigma_x}{x} = \\frac{10^b}{10^a} = 10^{(b-a)} $$\n",
    "$$ \\log_{10}\\left(\\frac{\\sigma_x}{x}\\right) = b - a $$\n",
    "$$ - \\log_{10}\\left(\\frac{\\sigma_x}{x}\\right) = a - b $$\n",
    "\n",
    "Another way to say this is that if the relative output has n significant digits then per definition: relative output = $10^{-n}$. From the calculations we make we get this: a number that corresponds to 10 upliftet to some exponent that is our number of significant digits in the output x. Since we want the actual number n, we take the negative log10 to get n from $10^{-n}$."
   ]
  },
  {
   "cell_type": "code",
   "execution_count": 10,
   "id": "91cbe153",
   "metadata": {
    "ExecuteTime": {
     "end_time": "2021-09-17T14:01:35.263589Z",
     "start_time": "2021-09-17T14:01:35.259422Z"
    }
   },
   "outputs": [
    {
     "name": "stdout",
     "output_type": "stream",
     "text": [
      "[3.030741906688338e-06, 0.003278252278438225, 3.5552048470980133e-07]\n"
     ]
    }
   ],
   "source": [
    "frac_err_xs = [condition_numbers[i] * 10**(-8) for i in np.arange(3)]\n",
    "print(frac_err_xs)"
   ]
  },
  {
   "cell_type": "code",
   "execution_count": 11,
   "id": "a32a2b26",
   "metadata": {
    "ExecuteTime": {
     "end_time": "2021-09-17T14:01:35.270239Z",
     "start_time": "2021-09-17T14:01:35.265853Z"
    }
   },
   "outputs": [
    {
     "name": "stdout",
     "output_type": "stream",
     "text": [
      "[5.518451045906735, 2.4843576282768707, 6.449135370630066]\n"
     ]
    }
   ],
   "source": [
    "sig_digits = [-np.log10(frac_err_xs[i]) for i in np.arange(3)]\n",
    "print(sig_digits)"
   ]
  },
  {
   "cell_type": "markdown",
   "id": "8ffe8b98",
   "metadata": {
    "ExecuteTime": {
     "end_time": "2021-09-14T14:06:31.250685Z",
     "start_time": "2021-09-14T14:06:31.244631Z"
    }
   },
   "source": [
    "## B(1)"
   ]
  },
  {
   "cell_type": "markdown",
   "id": "cc802989",
   "metadata": {},
   "source": [
    "Since $\\mathbf{X}$ is the solution to the system of linear equation it is on X (the output) that we find the relative forward error. Whereas the backward error is related to the error in the data we used as input versus the ideal data we should have used.\n",
    "\n",
    "If we have a function $y=f(x)$ then the forward error is $|\\Delta y| = |\\hat{y}-y|$ where $\\hat{y}$ is an approximation to $y$. The RELATIVE forward error in turn is $\\frac{|\\Delta y|}{y}$.\n",
    "Backward error is defined as the same but on the input x instead.\n",
    "\n",
    "Look at p. 59 equation with |E| over |A|. Here our matrix A is E-omegaS and E is the error on A. See picture on phone for more. The equation becomes\n",
    "$$  \\frac{\\left|\\left| \\Delta x\\right|\\right|_{\\infty}}{\\left|\\left| x\\right|\\right|_{\\infty}}  = cond_{\\infty}(\\mathbf{E}-\\omega\\mathbf{S})  \\frac{\\left|\\left|\\delta \\omega \\mathbf{S}\\right|\\right|_{\\infty}}{\\left|\\left|\\mathbf{E}-\\omega\\mathbf{S}\\right|\\right|_{\\infty}} $$\n",
    "where the right hand side is the bound on the relative forward error since x is the output (soultion) when working with matrices."
   ]
  },
  {
   "cell_type": "code",
   "execution_count": 12,
   "id": "8b89fa74",
   "metadata": {
    "ExecuteTime": {
     "end_time": "2021-09-17T14:01:35.279853Z",
     "start_time": "2021-09-17T14:01:35.272106Z"
    }
   },
   "outputs": [
    {
     "name": "stdout",
     "output_type": "stream",
     "text": [
      "[1.567615017579431e-05, 1.5526703231793995e-05, 1.5017005444678119e-05]\n",
      "Bounds [0.004751036527331957, 5.090045024626281, 0.0005338853054581691]\n",
      "Significant Digits [2.323211630587377, -0.7067216239595996, 3.27255203240348]\n"
     ]
    }
   ],
   "source": [
    "# Define error on omega\n",
    "delta_omega = 0.5*10**(-3)\n",
    "\n",
    "# We have the condition numbers from before in \"condition_numbers\"\n",
    "\n",
    "# Calculate |E|/|A|\n",
    "E_A = [max_norm(delta_omega*S_mat) / max_norm(E_mat - omegas[i]*S_mat) for i in np.arange(3)]\n",
    "print(E_A)\n",
    "\n",
    "# Calculate the bounds\n",
    "forward_bounds = [condition_numbers[i] * E_A[i] for i in np.arange(3)]\n",
    "print('Bounds', forward_bounds)\n",
    "\n",
    "# Number of significant digits if omega is given with 3 digits after the comma\n",
    "sig_digits2 = [-np.log10(forward_bounds[i]) for i in np.arange(3)]\n",
    "print('Significant Digits', sig_digits2)"
   ]
  },
  {
   "cell_type": "markdown",
   "id": "92ffe9ba",
   "metadata": {},
   "source": [
    "## C\n",
    "We will test the following functions against the linear equation: Ax=y\n",
    "\n",
    "test them after making ALL three functions."
   ]
  },
  {
   "cell_type": "code",
   "execution_count": 13,
   "id": "a35d1eae",
   "metadata": {
    "ExecuteTime": {
     "end_time": "2021-09-17T14:01:35.286810Z",
     "start_time": "2021-09-17T14:01:35.281821Z"
    }
   },
   "outputs": [
    {
     "name": "stdout",
     "output_type": "stream",
     "text": [
      "[[ 2  1  1]\n",
      " [ 4  1  4]\n",
      " [-6 -5  3]]\n",
      "[[ 4]\n",
      " [11]\n",
      " [ 4]]\n"
     ]
    }
   ],
   "source": [
    "A_test = np.array([ [2,1,1],[4,1,4],[-6, -5, 3] ])\n",
    "print(A_test)\n",
    "\n",
    "y_test = np.array([ 4, 11, 4 ]).reshape(3,1)\n",
    "print(y_test)"
   ]
  },
  {
   "cell_type": "markdown",
   "id": "82eb55a2",
   "metadata": {},
   "source": [
    "## C(1)"
   ]
  },
  {
   "cell_type": "markdown",
   "id": "54617ad5",
   "metadata": {},
   "source": [
    "Implementing a function: L,U = lu factorize(A), which takes a square matrix M as input and returns two\n",
    "square matrices: A triangular matrix L and upper triangular matrix U such that\n",
    "M = LU."
   ]
  },
  {
   "cell_type": "code",
   "execution_count": 14,
   "id": "9a9b20c5",
   "metadata": {
    "ExecuteTime": {
     "end_time": "2021-09-17T14:01:35.297206Z",
     "start_time": "2021-09-17T14:01:35.288734Z"
    }
   },
   "outputs": [],
   "source": [
    "# Define a function to perform LU factorization on a square matrix M\n",
    "def lu_factorize(M):\n",
    "    \n",
    "    # Check that the input matrix is in fact square\n",
    "    if M.shape[0] != M.shape[1]:\n",
    "        print('Input matrix is not square')\n",
    "    \n",
    "    # Initialise L as an identity matrix of the same dimensions as M\n",
    "    n = M.shape[0]\n",
    "    L = np.identity(n)\n",
    "    A = M.copy() #copy to not change input\n",
    "    U = np.zeros(A.shape)\n",
    "    \n",
    "    # Loop over all columns except the last one\n",
    "    for k in range(n-1):\n",
    "        \n",
    "        # Stop if the pivot is zero (the element in the diagonal of given column)\n",
    "        if A[k,k] == 0:\n",
    "            print('Encountered pivot equal to zero')\n",
    "            return\n",
    "        \n",
    "        # Loop over the subdiagonal rows in the given column\n",
    "        for i in range(k+1, n):\n",
    "            \n",
    "            # Find the value for all subdiagonal elements in L\n",
    "            L[i,k] = A[i,k] / A[k,k]\n",
    "            \n",
    "        # Loop again, combinations of j,i,k will give us elements of the submatrix in bottom right    \n",
    "        for j in range(k+1,n):\n",
    "            for i in range(k+1,n):\n",
    "                \n",
    "                # Apply transoformation to the remaining submatrix\n",
    "                A[i,j] = A[i,j] - L[i,k]*A[k,j]\n",
    "    \n",
    "        # Assign upper triangular part of the transformed M to U\n",
    "        U[:k+1,k] = A[:k+1,k] #rows, columns k+1 because the last element is not included when using :\n",
    "    \n",
    "    # Assign also the last column which is not used above because we range until n-1\n",
    "    U[:, -1] = A[:, -1]\n",
    "    \n",
    "    return L, U"
   ]
  },
  {
   "cell_type": "markdown",
   "id": "ea9b790c",
   "metadata": {},
   "source": [
    "We check that it works as expected by seeing if the output L times U is in fact A"
   ]
  },
  {
   "cell_type": "code",
   "execution_count": 15,
   "id": "f105f3c4",
   "metadata": {
    "ExecuteTime": {
     "end_time": "2021-09-17T14:01:35.309629Z",
     "start_time": "2021-09-17T14:01:35.299064Z"
    }
   },
   "outputs": [
    {
     "data": {
      "text/plain": [
       "array([[ 2,  1,  1],\n",
       "       [ 4,  1,  4],\n",
       "       [-6, -5,  3]])"
      ]
     },
     "execution_count": 15,
     "metadata": {},
     "output_type": "execute_result"
    }
   ],
   "source": [
    "A_test = np.array([ [2,1,1],[4,1,4],[-6, -5, 3] ])\n",
    "A_test"
   ]
  },
  {
   "cell_type": "code",
   "execution_count": 16,
   "id": "07c4a359",
   "metadata": {
    "ExecuteTime": {
     "end_time": "2021-09-17T14:01:35.315549Z",
     "start_time": "2021-09-17T14:01:35.311445Z"
    }
   },
   "outputs": [
    {
     "name": "stdout",
     "output_type": "stream",
     "text": [
      "[[ 1.  0.  0.]\n",
      " [ 2.  1.  0.]\n",
      " [-3.  2.  1.]]\n",
      "[[ 2.  1.  1.]\n",
      " [ 0. -1.  2.]\n",
      " [ 0.  0.  2.]]\n"
     ]
    }
   ],
   "source": [
    "L_test, U_test = lu_factorize(A_test)\n",
    "\n",
    "# Print to see if upper triangular\n",
    "print(L_test)\n",
    "print(U_test)"
   ]
  },
  {
   "cell_type": "code",
   "execution_count": 17,
   "id": "aad415a5",
   "metadata": {
    "ExecuteTime": {
     "end_time": "2021-09-17T14:01:35.322470Z",
     "start_time": "2021-09-17T14:01:35.317374Z"
    }
   },
   "outputs": [
    {
     "data": {
      "text/plain": [
       "array([[ 2.,  1.,  1.],\n",
       "       [ 4.,  1.,  4.],\n",
       "       [-6., -5.,  3.]])"
      ]
     },
     "execution_count": 17,
     "metadata": {},
     "output_type": "execute_result"
    }
   ],
   "source": [
    "L_test @ U_test"
   ]
  },
  {
   "cell_type": "markdown",
   "id": "a544834a",
   "metadata": {},
   "source": [
    "## C(2)\n",
    "y = forward substitute(L,z), which takes a square lower triangular matrix L and a\n",
    "vector b as input, and returns the solution vector y to Ly = b."
   ]
  },
  {
   "cell_type": "code",
   "execution_count": 18,
   "id": "19e3abba",
   "metadata": {
    "ExecuteTime": {
     "end_time": "2021-09-17T14:01:35.329882Z",
     "start_time": "2021-09-17T14:01:35.324293Z"
    }
   },
   "outputs": [],
   "source": [
    "# We define the function\n",
    "def forward_substitute(L, b):\n",
    "    \n",
    "    # Make empty array for solution vector y\n",
    "    n = L.shape[0]\n",
    "    y_vec = np.zeros(n)\n",
    "    \n",
    "    # Make copy of b so we dont change the values when updating\n",
    "    b_copy = b.copy()\n",
    "    \n",
    "    # Loop over columns in the L matrix\n",
    "    for j in range(n):\n",
    "        \n",
    "        # Stop if matrix is singular\n",
    "        if L[j,j] == 0:\n",
    "            print('Singular matrix encountered. Cannot procede.')\n",
    "            return\n",
    "        \n",
    "        # Compute solution component, i.e. the solution to the i'th linear equation\n",
    "        y_vec[j] = b_copy[j] / L[j,j]\n",
    "        \n",
    "        # Update right hand side\n",
    "        for i in range(j+1,n):\n",
    "            b_copy[i] = b_copy[i] - L[i,j] * y_vec[j]\n",
    "        \n",
    "    return y_vec"
   ]
  },
  {
   "cell_type": "code",
   "execution_count": 19,
   "id": "2f0261ef",
   "metadata": {
    "ExecuteTime": {
     "end_time": "2021-09-17T14:01:35.336720Z",
     "start_time": "2021-09-17T14:01:35.332384Z"
    }
   },
   "outputs": [
    {
     "name": "stdout",
     "output_type": "stream",
     "text": [
      "[[ 4.]\n",
      " [ 3.]\n",
      " [10.]]\n",
      "[ 4.  3. 10.]\n"
     ]
    }
   ],
   "source": [
    "print(np.linalg.solve(L_test,y_test))\n",
    "print(forward_substitute(L_test,y_test))"
   ]
  },
  {
   "cell_type": "markdown",
   "id": "8a7f9e93",
   "metadata": {},
   "source": [
    "## C(3)\n",
    "x = back substitute(U,y), which takes a square upper triangular matrix U and a\n",
    "vector y as input, and returns the solution vector x to Ux = y."
   ]
  },
  {
   "cell_type": "code",
   "execution_count": 650,
   "id": "bea66de2",
   "metadata": {
    "ExecuteTime": {
     "end_time": "2021-09-20T20:08:59.414193Z",
     "start_time": "2021-09-20T20:08:59.405971Z"
    }
   },
   "outputs": [],
   "source": [
    "def back_substitute(U,y):\n",
    "    \n",
    "    # Make empty array for solution vector x\n",
    "    n_rows, n_cols = U.shape\n",
    "    x_vec = np.zeros(n_cols)\n",
    "    \n",
    "    # Make copy of y so we dont change the values when updating\n",
    "    y_copy = y.copy()\n",
    "    \n",
    "    # Loop backwards over columns\n",
    "    \n",
    "    for j in reversed(range(n_rows)):\n",
    "        \n",
    "        # Stop if matrix is singular\n",
    "        if j+1 > n_cols: continue\n",
    "        else:\n",
    "            if U[j,j] == 0:\n",
    "                print('Singular matrix encountered. Cannot procede.')\n",
    "                return\n",
    "        \n",
    "        # Compute solution component\n",
    "        x_vec[j] = y_copy[j] / U[j,j]\n",
    "        \n",
    "        for i in range(0,j):\n",
    "            y_copy[i] = y_copy[i] - U[i,j] * x_vec[j]\n",
    "            \n",
    "    return x_vec"
   ]
  },
  {
   "cell_type": "code",
   "execution_count": 651,
   "id": "373e565a",
   "metadata": {
    "ExecuteTime": {
     "end_time": "2021-09-20T20:09:02.383998Z",
     "start_time": "2021-09-20T20:09:02.377984Z"
    }
   },
   "outputs": [
    {
     "name": "stdout",
     "output_type": "stream",
     "text": [
      "[[ 4.5]\n",
      " [-7. ]\n",
      " [ 2. ]]\n",
      "[ 4.5 -7.   2. ]\n"
     ]
    }
   ],
   "source": [
    "print(np.linalg.solve(U_test,y_test))\n",
    "print(back_substitute(U_test,y_test))"
   ]
  },
  {
   "cell_type": "markdown",
   "id": "d2e55889",
   "metadata": {},
   "source": [
    "## Check that it works\n",
    "We start out with a linear system of equations: $\\mathbf{Ax}=\\mathbf{b}$\n",
    "\n",
    "With LU-factorization the equation becomes: $\\mathbf{LUx} = \\mathbf{b}$\n",
    "\n",
    "We let $\\mathbf{Ux}=\\mathbf{y}$. The we can start by solving the equation: $\\mathbf{Ly} = \\mathbf{b}$\n",
    "\n",
    "This allows us to find $\\mathbf{y}$, meaning that we can now solve for $\\mathbf{x}$ by solving $\\mathbf{Ux}=\\mathbf{y}$."
   ]
  },
  {
   "cell_type": "code",
   "execution_count": 22,
   "id": "2478a799",
   "metadata": {
    "ExecuteTime": {
     "end_time": "2021-09-17T14:01:35.359486Z",
     "start_time": "2021-09-17T14:01:35.354272Z"
    }
   },
   "outputs": [
    {
     "name": "stdout",
     "output_type": "stream",
     "text": [
      "[[ 2  1  1]\n",
      " [ 4  1  4]\n",
      " [-6 -5  3]]\n",
      "[[ 4]\n",
      " [11]\n",
      " [ 4]]\n"
     ]
    }
   ],
   "source": [
    "# This is the system we will check\n",
    "A_test = np.array([ [2,1,1],[4,1,4],[-6, -5, 3] ])\n",
    "print(A_test)\n",
    "\n",
    "y_test = np.array([ 4, 11, 4 ]).reshape(3,1)\n",
    "print(y_test)"
   ]
  },
  {
   "cell_type": "code",
   "execution_count": 750,
   "id": "7e7ff1ff",
   "metadata": {
    "ExecuteTime": {
     "end_time": "2021-09-21T12:47:57.010084Z",
     "start_time": "2021-09-21T12:47:57.001215Z"
    }
   },
   "outputs": [
    {
     "data": {
      "text/plain": [
       "array([[-4.],\n",
       "       [ 7.],\n",
       "       [ 5.]])"
      ]
     },
     "execution_count": 750,
     "metadata": {},
     "output_type": "execute_result"
    }
   ],
   "source": [
    "# Solving it with numpy linalg to see what x ought to be.\n",
    "sol_numpy = np.linalg.solve(A_test,y_test)\n",
    "sol_numpy"
   ]
  },
  {
   "cell_type": "code",
   "execution_count": 24,
   "id": "198cac85",
   "metadata": {
    "ExecuteTime": {
     "end_time": "2021-09-17T14:01:35.373443Z",
     "start_time": "2021-09-17T14:01:35.369309Z"
    }
   },
   "outputs": [],
   "source": [
    "# Solving it ourselves by first making a function that combines the stuff\n",
    "def linear_solver(A,b): \n",
    "    \"\"\"\n",
    "    A = coefficient matrix\n",
    "    b = dependent variable values\n",
    "    \"\"\"\n",
    "    A = A.copy()\n",
    "    L, U = lu_factorize(A)\n",
    "    y = forward_substitute(L, b)\n",
    "    x = back_substitute(U, y)\n",
    "    \n",
    "    return x"
   ]
  },
  {
   "cell_type": "code",
   "execution_count": 25,
   "id": "7da35a6f",
   "metadata": {
    "ExecuteTime": {
     "end_time": "2021-09-17T14:01:35.379744Z",
     "start_time": "2021-09-17T14:01:35.375051Z"
    }
   },
   "outputs": [
    {
     "data": {
      "text/plain": [
       "array([-4.,  7.,  5.])"
      ]
     },
     "execution_count": 25,
     "metadata": {},
     "output_type": "execute_result"
    }
   ],
   "source": [
    "my_sol = linear_solver(A_test, y_test)\n",
    "my_sol"
   ]
  },
  {
   "cell_type": "markdown",
   "id": "a7ed9f27",
   "metadata": {},
   "source": [
    "## d\n",
    "Implement a function alpha = solve_alpha(omega) for calculating the frequency-dependent\n",
    "polarizability $\\alpha(\\omega)=\\mathbf{z}^T \\mathbf{x}$ for water in the given approximation. This routine should solve\n",
    "Equation (2) by LU-factorization using your own three routines from (c).\n",
    "\n",
    "Equation (2) is:\n",
    "$$ (\\mathbf{E}-\\omega\\mathbf{S})\\mathbf{x} = \\mathbf{z} $$ \n",
    "\n",
    "Step 1 is solving for $\\mathbf{x}$ through lu factorization and the other routines in (c). When we have $\\mathbf{x}$ we can use this along with the given vector z to calculate alpha."
   ]
  },
  {
   "cell_type": "code",
   "execution_count": 29,
   "id": "dd5455e0",
   "metadata": {
    "ExecuteTime": {
     "end_time": "2021-09-17T14:08:02.346802Z",
     "start_time": "2021-09-17T14:08:02.342188Z"
    }
   },
   "outputs": [],
   "source": [
    "# Define the function\n",
    "def solve_alpha(omega):\n",
    "    \n",
    "    # Get matrix that is multiplied on x on the left hand side\n",
    "    matrix = E_mat - omega*S_mat\n",
    "    \n",
    "    # Calculate x\n",
    "    X = linear_solver(matrix, z_vec)\n",
    "    \n",
    "    # Calculate omega\n",
    "    alpha = np.dot(z_vec.T, X)\n",
    "    \n",
    "    return alpha"
   ]
  },
  {
   "cell_type": "markdown",
   "id": "f5d35bc4",
   "metadata": {},
   "source": [
    "## d(1)\n",
    "Using your routine, make a table of the polarizabilities for the frequencies given in (a) and their perturbations, i.e. for $ \\omega = (1.300 \\pm \\delta\\omega, 1.607 \\pm \\delta\\omega, 2.700 \\pm \\delta\\omega)) $ with $ \\delta \\omega = 0.5 \\cdot 10^{-3} $"
   ]
  },
  {
   "cell_type": "code",
   "execution_count": 30,
   "id": "39d85fc0",
   "metadata": {
    "ExecuteTime": {
     "end_time": "2021-09-17T14:08:03.680421Z",
     "start_time": "2021-09-17T14:08:03.662473Z"
    }
   },
   "outputs": [
    {
     "data": {
      "text/plain": [
       "[-4.875948325641522, -434.96060688668655, -0.3759432363856515]"
      ]
     },
     "execution_count": 30,
     "metadata": {},
     "output_type": "execute_result"
    }
   ],
   "source": [
    "[solve_alpha(omegas[i]) for i in np.arange(3)]"
   ]
  },
  {
   "cell_type": "markdown",
   "id": "24bdb822",
   "metadata": {},
   "source": [
    "## d(2)\n",
    "Which error-bound is the correct one to understand the variation of the calculated polarizabilities\n",
    "due to the perturbation: (a) or (b) or both? Explain why. Do your calculated\n",
    "values fall within the bounds you calculated above?"
   ]
  },
  {
   "cell_type": "markdown",
   "id": "9fea4e23",
   "metadata": {},
   "source": [
    "since we have an error on omega and still assume z is exact the right error bound will be the one given in (b). See pictures on phone for exact estimation but the idea is we can use the method in (b) to find a bound on x. the error bound on alpha will be proportional to that error. If we use a triangle inequality we can estimate a bound on alpha but that is not really the question."
   ]
  },
  {
   "cell_type": "markdown",
   "id": "3272eba7",
   "metadata": {},
   "source": [
    "## e(1) and e(2)\n",
    "Compute a table of $\\alpha(\\omega)$ for 1000 evenly spaced values in the interval [1.2;4] using\n",
    "your routine from (d), and plot the values. (2) Can you explain what happens to the linear\n",
    "system of Equation (2) around the frequency $\\omega = 1.60686978$, and how is this reflected in\n",
    "$\\alpha(\\omega)$?"
   ]
  },
  {
   "cell_type": "code",
   "execution_count": 31,
   "id": "edd0ad23",
   "metadata": {
    "ExecuteTime": {
     "end_time": "2021-09-17T14:14:37.578192Z",
     "start_time": "2021-09-17T14:14:36.495038Z"
    }
   },
   "outputs": [],
   "source": [
    "# Define omegas in the interval\n",
    "omegas_many = np.linspace(1.2,4,1000)\n",
    "\n",
    "# Calculate the corresponding alphas\n",
    "alphas_many = [solve_alpha(omegas_many[i]) for i in range(len(omegas_many)) ]"
   ]
  },
  {
   "cell_type": "code",
   "execution_count": 41,
   "id": "d3425388",
   "metadata": {
    "ExecuteTime": {
     "end_time": "2021-09-17T14:17:32.085978Z",
     "start_time": "2021-09-17T14:17:31.899564Z"
    }
   },
   "outputs": [
    {
     "data": {
      "text/plain": [
       "[<matplotlib.lines.Line2D at 0x1163ff518>]"
      ]
     },
     "execution_count": 41,
     "metadata": {},
     "output_type": "execute_result"
    },
    {
     "data": {
      "image/png": "[encoded data removed]",
      "text/plain": [
       "<Figure size 864x432 with 1 Axes>"
      ]
     },
     "metadata": {
      "needs_background": "light"
     },
     "output_type": "display_data"
    }
   ],
   "source": [
    "# Plotting it\n",
    "fig, ax = plt.subplots(figsize=(12,6))\n",
    "ax.plot(omegas_many, alphas_many)"
   ]
  },
  {
   "cell_type": "code",
   "execution_count": 43,
   "id": "5ff7f78a",
   "metadata": {
    "ExecuteTime": {
     "end_time": "2021-09-17T14:18:49.877425Z",
     "start_time": "2021-09-17T14:18:49.869446Z"
    }
   },
   "outputs": [
    {
     "data": {
      "text/plain": [
       "-22926762.440637004"
      ]
     },
     "execution_count": 43,
     "metadata": {},
     "output_type": "execute_result"
    }
   ],
   "source": [
    "solve_alpha(1.60686978)"
   ]
  },
  {
   "cell_type": "markdown",
   "id": "6d9465e9",
   "metadata": {},
   "source": [
    "singular matricer har uendelig condition number så man kan tjekke sådan eller for 0 determinant."
   ]
  },
  {
   "cell_type": "code",
   "execution_count": 44,
   "id": "c132357e",
   "metadata": {
    "ExecuteTime": {
     "end_time": "2021-09-17T14:26:53.329606Z",
     "start_time": "2021-09-17T14:26:53.324193Z"
    }
   },
   "outputs": [
    {
     "data": {
      "text/plain": [
       "17341583414.84385"
      ]
     },
     "execution_count": 44,
     "metadata": {},
     "output_type": "execute_result"
    }
   ],
   "source": [
    "cond(E_mat-1.60686978*S_mat)"
   ]
  },
  {
   "cell_type": "code",
   "execution_count": 45,
   "id": "941a1eee",
   "metadata": {
    "ExecuteTime": {
     "end_time": "2021-09-17T14:27:22.270854Z",
     "start_time": "2021-09-17T14:27:22.251281Z"
    }
   },
   "outputs": [
    {
     "data": {
      "text/plain": [
       "-51.779268744896555"
      ]
     },
     "execution_count": 45,
     "metadata": {},
     "output_type": "execute_result"
    }
   ],
   "source": [
    "np.linalg.det(E_mat-1.60686978*S_mat)"
   ]
  },
  {
   "cell_type": "markdown",
   "id": "4cfaf2d8",
   "metadata": {},
   "source": [
    "# Questions for week 2"
   ]
  },
  {
   "cell_type": "markdown",
   "id": "7dc3f03e",
   "metadata": {
    "ExecuteTime": {
     "end_time": "2021-09-17T14:29:52.828473Z",
     "start_time": "2021-09-17T14:29:52.818898Z"
    }
   },
   "source": [
    "## f(1)\n",
    "Implement a function that:\n",
    "Q,R = householder QR(A), which takes as input a rectangular matrix $A: mxn$ and\n",
    "uses the Householder method to compute its QR decomposition. Check that $Q: mxm$\n",
    "is orthogonal, i.e., $Q^TQ = QQT = I, and that the upper triangular matrix R: m   n\n",
    "satis es A = QR."
   ]
  },
  {
   "cell_type": "markdown",
   "id": "2fbb5c3d",
   "metadata": {},
   "source": [
    "I couldnt get the pseudocode from the book to work, so instead I followed the description in: http://rosettacode.org/wiki/QR_decomposition\n",
    "\n",
    "maybe use copysign instead as in hint"
   ]
  },
  {
   "cell_type": "code",
   "execution_count": 614,
   "id": "de792739",
   "metadata": {
    "ExecuteTime": {
     "end_time": "2021-09-20T19:38:36.708990Z",
     "start_time": "2021-09-20T19:38:36.696752Z"
    }
   },
   "outputs": [],
   "source": [
    "def householder_qr(A, rounded=False, decimals=4):\n",
    "    \"\"\"\n",
    "    Description\n",
    "    \"\"\"\n",
    "    \n",
    "    # Inititalise R as a copy of A to not change the original matrix - same goes for b\n",
    "    R = A.copy()\n",
    "    \n",
    "    # Get dimensions of matrix A\n",
    "    n_rows, n_cols = A.shape\n",
    "    \n",
    "    # Check that m>n so the procedure is possible\n",
    "    if n_rows<n_cols:\n",
    "        print('Encountered matrix with more columns than rows. System is unsolvable.')\n",
    "        return\n",
    "    \n",
    "    # Initialise Q as an identity matrix\n",
    "    Q = np.identity(n_rows)\n",
    "    \n",
    "    ######################################\n",
    "    ### Compute the householder vector ###\n",
    "    ######################################\n",
    "    \n",
    "    # Loop over columns\n",
    "    for j in range(n_cols):\n",
    "        \n",
    "        # Let a be the j'th column of the matrix A or submatrix depending on iteration\n",
    "        a = R[j:,j]\n",
    "        \n",
    "        # Calculate the norm of a\n",
    "        norm_a = np.sqrt( np.sum(a**2) )\n",
    "        \n",
    "        # Calculate the alpha which is the proper sign (to avoid nummerical cancellation errors) times the norm\n",
    "        alpha = -np.sign(a[0]) * norm_a\n",
    "        \n",
    "        # Make the first standard basis vector for the matrix or subbmatrix\n",
    "        e = np.zeros_like(a)\n",
    "        e[0] = 1\n",
    "        \n",
    "        # Initialise a householder vector 'u': the vector 'a' minus 'alpha' on the diagonal element\n",
    "        v = a - alpha*e\n",
    "        \n",
    "        # Normalise it\n",
    "        v = v/np.sqrt(np.sum(v**2))\n",
    "\n",
    "        \"\"\"\n",
    "        check that something is not zero - is it a[j]?\n",
    "        \"\"\"\n",
    "        #############################################\n",
    "        ### Compute the householder vector matrix ###\n",
    "        #############################################\n",
    "    \n",
    "        # Compute the Householder matrix (notice that H_n with n>0 are embedded into a mxn identity)\n",
    "        H = np.identity(n_rows)\n",
    "        H[j:,j:] -= (2 / np.dot(v, v)) * np.dot(v[:, None], v[None, :]) #normalise twice?\n",
    "\n",
    "        #################################\n",
    "        ### Compute Q,R and b' from H ###\n",
    "        #################################\n",
    "        \n",
    "        # Q = I*H_1*H_2...\n",
    "        Q = Q@H\n",
    "        \n",
    "        # Get R from H_3*H_2*H_1*A=R_3\n",
    "        R = H@R\n",
    "        \n",
    "    if rounded:\n",
    "        Q = np.round_(Q, decimals=decimals)\n",
    "        R = np.round_(R, decimals=decimals)\n",
    "            \n",
    "    return Q, R"
   ]
  },
  {
   "cell_type": "markdown",
   "id": "84553649",
   "metadata": {},
   "source": [
    "### Test if it works"
   ]
  },
  {
   "cell_type": "code",
   "execution_count": 606,
   "id": "55c5b735",
   "metadata": {
    "ExecuteTime": {
     "end_time": "2021-09-20T19:22:55.519407Z",
     "start_time": "2021-09-20T19:22:55.506404Z"
    }
   },
   "outputs": [
    {
     "name": "stdout",
     "output_type": "stream",
     "text": [
      "[[ 1  0  0]\n",
      " [ 0  1  0]\n",
      " [ 0  0  1]\n",
      " [-1  1  0]\n",
      " [-1  0  1]\n",
      " [ 0 -1  1]] [[1237]\n",
      " [1941]\n",
      " [2417]\n",
      " [ 711]\n",
      " [1177]\n",
      " [ 475]]\n"
     ]
    }
   ],
   "source": [
    "A_test2 = np.array([ [1,0,0], [0,1,0], [0,0,1], [-1,1,0], [-1,0,1], [0, -1, 1] ])\n",
    "b_test2 = np.array([1237,1941,2417,711,1177,475]).reshape(6,1)\n",
    "print(A_test2, b_test2)"
   ]
  },
  {
   "cell_type": "code",
   "execution_count": 607,
   "id": "e2c4c755",
   "metadata": {
    "ExecuteTime": {
     "end_time": "2021-09-20T19:22:55.935921Z",
     "start_time": "2021-09-20T19:22:55.929258Z"
    }
   },
   "outputs": [
    {
     "name": "stdout",
     "output_type": "stream",
     "text": [
      "[[-5.77350269e-01 -2.04124145e-01 -3.53553391e-01]\n",
      " [-0.00000000e+00 -6.12372436e-01 -3.53553391e-01]\n",
      " [-0.00000000e+00 -0.00000000e+00 -7.07106781e-01]\n",
      " [ 5.77350269e-01 -4.08248290e-01  3.70430685e-17]\n",
      " [ 5.77350269e-01  2.04124145e-01 -3.53553391e-01]\n",
      " [-0.00000000e+00  6.12372436e-01 -3.53553391e-01]]\n",
      "[[-1.73205081  0.57735027  0.57735027]\n",
      " [ 0.         -1.63299316  0.81649658]\n",
      " [ 0.          0.         -1.41421356]]\n"
     ]
    }
   ],
   "source": [
    "# Perform QR factorization with library routine\n",
    "Q_test_np, R_test_np = np.linalg.qr(A_test2)\n",
    "print(Q_test_np)\n",
    "print(R_test_np)"
   ]
  },
  {
   "cell_type": "code",
   "execution_count": 616,
   "id": "2d3c464d",
   "metadata": {
    "ExecuteTime": {
     "end_time": "2021-09-20T19:38:59.573919Z",
     "start_time": "2021-09-20T19:38:59.566176Z"
    }
   },
   "outputs": [
    {
     "name": "stdout",
     "output_type": "stream",
     "text": [
      "[[-0.5774 -0.2041 -0.3536  0.5113  0.4878 -0.0235]\n",
      " [ 0.     -0.6124 -0.3536 -0.4878  0.0235  0.5113]\n",
      " [ 0.      0.     -0.7071 -0.0235 -0.5113 -0.4878]\n",
      " [ 0.5774 -0.4082  0.      0.6664 -0.1786  0.1551]\n",
      " [ 0.5774  0.2041 -0.3536 -0.1551  0.6664 -0.1786]\n",
      " [ 0.      0.6124 -0.3536  0.1786 -0.1551  0.6664]]\n",
      "[[-1.7321  0.5774  0.5774]\n",
      " [ 0.     -1.633   0.8165]\n",
      " [ 0.      0.     -1.4142]\n",
      " [ 0.     -0.     -0.    ]\n",
      " [ 0.     -0.     -0.    ]\n",
      " [ 0.     -0.      0.    ]]\n"
     ]
    }
   ],
   "source": [
    "Q_test_my, R_test_my = householder_qr(A_test2,rounded=True)\n",
    "print(Q_test_my)\n",
    "print(R_test_my)"
   ]
  },
  {
   "cell_type": "markdown",
   "id": "6688f045",
   "metadata": {},
   "source": [
    "It seems that it works when held up against the numpy routine and also corresponds to the numbers found in the example on p. 126 where R can be seen.\n",
    "\n",
    "Lets check if Q is orthogonal by: $Q^TQ=QQ^T=I$ and that R satisfies: $A=QR$"
   ]
  },
  {
   "cell_type": "code",
   "execution_count": 609,
   "id": "3cc8fb06",
   "metadata": {
    "ExecuteTime": {
     "end_time": "2021-09-20T19:22:57.072720Z",
     "start_time": "2021-09-20T19:22:57.063999Z"
    }
   },
   "outputs": [
    {
     "data": {
      "text/plain": [
       "(array([[ 1., -0., -0.,  0., -0., -0.],\n",
       "        [-0.,  1.,  0.,  0., -0.,  0.],\n",
       "        [-0.,  0.,  1., -0., -0., -0.],\n",
       "        [ 0.,  0., -0.,  1., -0.,  0.],\n",
       "        [-0., -0., -0., -0.,  1., -0.],\n",
       "        [-0.,  0., -0.,  0., -0.,  1.]]),\n",
       " array([[ 1.,  0.,  0., -0., -0.,  0.],\n",
       "        [ 0.,  1.,  0.,  0.,  0., -0.],\n",
       "        [ 0.,  0.,  1., -0.,  0.,  0.],\n",
       "        [-0.,  0., -0.,  1., -0.,  0.],\n",
       "        [-0.,  0.,  0., -0.,  1., -0.],\n",
       "        [ 0., -0.,  0.,  0., -0.,  1.]]))"
      ]
     },
     "execution_count": 609,
     "metadata": {},
     "output_type": "execute_result"
    }
   ],
   "source": [
    "# Orthogonal\n",
    "np.round_(Q_test_my.T @ Q_test_my, decimals=3), np.round_(Q_test_my @ Q_test_my.T, decimals=3)"
   ]
  },
  {
   "cell_type": "code",
   "execution_count": 610,
   "id": "6785baea",
   "metadata": {
    "ExecuteTime": {
     "end_time": "2021-09-20T19:22:57.658054Z",
     "start_time": "2021-09-20T19:22:57.649380Z"
    }
   },
   "outputs": [
    {
     "name": "stdout",
     "output_type": "stream",
     "text": [
      "[[ 1. -0.  0.]\n",
      " [ 0.  1.  0.]\n",
      " [ 0.  0.  1.]\n",
      " [-1.  1.  0.]\n",
      " [-1.  0.  1.]\n",
      " [ 0. -1.  1.]] [[ 1  0  0]\n",
      " [ 0  1  0]\n",
      " [ 0  0  1]\n",
      " [-1  1  0]\n",
      " [-1  0  1]\n",
      " [ 0 -1  1]]\n"
     ]
    }
   ],
   "source": [
    "# A=QR\n",
    "print(np.round_(Q_test_my@R_test_my, decimals=3), A_test2)"
   ]
  },
  {
   "cell_type": "code",
   "execution_count": 611,
   "id": "b9154ff3",
   "metadata": {
    "ExecuteTime": {
     "end_time": "2021-09-20T19:22:58.259751Z",
     "start_time": "2021-09-20T19:22:58.249056Z"
    }
   },
   "outputs": [
    {
     "data": {
      "text/plain": [
       "(array([[ 3.75855e+02],\n",
       "        [-1.20025e+03],\n",
       "        [-3.41674e+03],\n",
       "        [ 4.95130e+00],\n",
       "        [-3.09400e+00],\n",
       "        [ 9.54600e-01]]),\n",
       " array([[ 3.7588740e+02],\n",
       "        [-1.2002546e+03],\n",
       "        [-3.4169487e+03],\n",
       "        [ 4.9515000e+00],\n",
       "        [-3.0943000e+00],\n",
       "        [ 9.5510000e-01]]))"
      ]
     },
     "execution_count": 611,
     "metadata": {},
     "output_type": "execute_result"
    }
   ],
   "source": [
    "b_trans, Q_test_my.T@b_test2"
   ]
  },
  {
   "cell_type": "markdown",
   "id": "607eee8e",
   "metadata": {},
   "source": [
    "## f(2) \n",
    "$\\tilde{x}$ = least squares(A,b), which combines this routine with your back-substitution\n",
    "from (c.3) to compute a linear least squares fitting. It should take as input a rectangular\n",
    "mxn matrix A and an mx1 right-hand-side vector b, returning an nx1 approximate\n",
    "solution vector $\\tilde{x}$ to $A\\tilde{x} = b$ as output."
   ]
  },
  {
   "cell_type": "code",
   "execution_count": 652,
   "id": "57b5f7d4",
   "metadata": {
    "ExecuteTime": {
     "end_time": "2021-09-20T20:09:07.684419Z",
     "start_time": "2021-09-20T20:09:07.679442Z"
    }
   },
   "outputs": [],
   "source": [
    "def least_squares(A,b):\n",
    "    \n",
    "    # Perform QR factorisation on A\n",
    "    Q, R = householder_qr(A)\n",
    "    \n",
    "    # Get the transformed right hand side vector b\n",
    "    b_trans = Q.T@b\n",
    "    \n",
    "    # Solve the upper rectangular matrix R with back substitution\n",
    "    n_rows, n_cols = A.shape\n",
    "    x = back_substitute(R,b_trans) #why do we need to cut it off here?\n",
    "    \n",
    "    return x"
   ]
  },
  {
   "cell_type": "code",
   "execution_count": 653,
   "id": "355fbea1",
   "metadata": {
    "ExecuteTime": {
     "end_time": "2021-09-20T20:09:08.069820Z",
     "start_time": "2021-09-20T20:09:08.059920Z"
    }
   },
   "outputs": [
    {
     "data": {
      "text/plain": [
       "array([1236., 1943., 2416.])"
      ]
     },
     "execution_count": 653,
     "metadata": {},
     "output_type": "execute_result"
    }
   ],
   "source": [
    "least_squares(A_test2,b_test2)"
   ]
  },
  {
   "cell_type": "code",
   "execution_count": 654,
   "id": "ae901dac",
   "metadata": {
    "ExecuteTime": {
     "end_time": "2021-09-20T20:09:19.313048Z",
     "start_time": "2021-09-20T20:09:19.306025Z"
    }
   },
   "outputs": [
    {
     "name": "stderr",
     "output_type": "stream",
     "text": [
      "/anaconda3/lib/python3.6/site-packages/ipykernel_launcher.py:1: FutureWarning: `rcond` parameter will change to the default of machine precision times ``max(M, N)`` where M and N are the input matrix dimensions.\n",
      "To use the future default and silence this warning we advise to pass `rcond=None`, to keep using the old, explicitly pass `rcond=-1`.\n",
      "  \"\"\"Entry point for launching an IPython kernel.\n"
     ]
    },
    {
     "data": {
      "text/plain": [
       "array([[1236.],\n",
       "       [1943.],\n",
       "       [2416.]])"
      ]
     },
     "execution_count": 654,
     "metadata": {},
     "output_type": "execute_result"
    }
   ],
   "source": [
    "np.linalg.lstsq(A_test2,b_test2)[0]"
   ]
  },
  {
   "cell_type": "markdown",
   "id": "03774ae6",
   "metadata": {},
   "source": [
    "It seems to work."
   ]
  },
  {
   "cell_type": "markdown",
   "id": "700838b8",
   "metadata": {},
   "source": [
    "## g(1)\n",
    "Suggest a suitable value of omega_p < 4. Lets remember the plot of alpha we try to approximate:"
   ]
  },
  {
   "cell_type": "code",
   "execution_count": 655,
   "id": "9692407d",
   "metadata": {
    "ExecuteTime": {
     "end_time": "2021-09-20T20:18:21.559766Z",
     "start_time": "2021-09-20T20:18:21.263615Z"
    }
   },
   "outputs": [
    {
     "data": {
      "text/plain": [
       "[<matplotlib.lines.Line2D at 0x1191b8908>]"
      ]
     },
     "execution_count": 655,
     "metadata": {},
     "output_type": "execute_result"
    },
    {
     "data": {
      "image/png": "[encoded data removed]",
      "text/plain": [
       "<Figure size 864x432 with 1 Axes>"
      ]
     },
     "metadata": {
      "needs_background": "light"
     },
     "output_type": "display_data"
    }
   ],
   "source": [
    "# Plotting it\n",
    "fig, ax = plt.subplots(figsize=(12,6))\n",
    "ax.plot(omegas_many, alphas_many)"
   ]
  },
  {
   "cell_type": "markdown",
   "id": "480e2d75",
   "metadata": {},
   "source": [
    "remember there was a singularity around 1.6 so lets not go over that or it will distort the polynomium approximation. I choose 1.5 which gives us x points to work with:"
   ]
  },
  {
   "cell_type": "code",
   "execution_count": 698,
   "id": "d0bf1b60",
   "metadata": {
    "ExecuteTime": {
     "end_time": "2021-09-20T20:50:56.176180Z",
     "start_time": "2021-09-20T20:50:56.170054Z"
    }
   },
   "outputs": [
    {
     "name": "stdout",
     "output_type": "stream",
     "text": [
      "We are working with 108 points to fit\n"
     ]
    }
   ],
   "source": [
    "omegas_g = omegas_many[omegas_many < 1.5]\n",
    "alphas_g = np.array(alphas_many)[omegas_many < 1.5]\n",
    "print(f'We are working with {len(omegas_g)} points to fit')"
   ]
  },
  {
   "cell_type": "markdown",
   "id": "2ae9b0f8",
   "metadata": {},
   "source": [
    "now lets construct the matrix A according to the example on p. 107\n",
    "\n",
    "Our matrix will thus be consisting of 108 rows since we have 108 points to fit to. Each row will consist of\n",
    "1, omega, omega^2, omega^3 when choosing n=4, meaning we have 4 columns and the matrix will be of shape 108,4\n",
    "\n",
    "omega are the first coordinate in the plot above, and will thus be the elements in the list omegas_g. \n",
    "\n",
    "Our right hand side vector b will be a columnvector with 108 entries, consisting of the second coordinates aka the elements in the list alhas_g.\n",
    "\n",
    "the solution vector x we want to find holds the coefficient of our polynomium."
   ]
  },
  {
   "cell_type": "code",
   "execution_count": 705,
   "id": "d13889ca",
   "metadata": {
    "ExecuteTime": {
     "end_time": "2021-09-20T20:53:07.272517Z",
     "start_time": "2021-09-20T20:53:07.259029Z"
    }
   },
   "outputs": [
    {
     "name": "stdout",
     "output_type": "stream",
     "text": [
      "[-3008.0371602   6406.93938819 -4558.13439385  1082.17381939]\n"
     ]
    }
   ],
   "source": [
    "# Construct columns\n",
    "col0 = np.ones_like(omegas_g)\n",
    "col1 = omegas_g\n",
    "col2 = omegas_g**2\n",
    "col3 = omegas_g**3\n",
    "col4 = omegas_g**4\n",
    "\n",
    "# Construct matrix A\n",
    "A_g = np.column_stack([col0,col1,col2,col3])\n",
    "\n",
    "# Let matrix b bbe the alphas\n",
    "B_g = alphas_g\n",
    "\n",
    "# Solve with least squares\n",
    "coef1 = least_squares(A_g,B_g)\n",
    "print(coef1)\n",
    "\n",
    "# Create function\n",
    "def pol(x, a, b, c, d):\n",
    "    return a + b*x + c*x**2 + d*x**3\n",
    "\n",
    "alphas_P1 = pol(omegas_g, *coef1)"
   ]
  },
  {
   "cell_type": "code",
   "execution_count": 706,
   "id": "9e19b95b",
   "metadata": {
    "ExecuteTime": {
     "end_time": "2021-09-20T20:53:51.237554Z",
     "start_time": "2021-09-20T20:53:51.205004Z"
    }
   },
   "outputs": [
    {
     "name": "stdout",
     "output_type": "stream",
     "text": [
      "[-3008.0371602   6406.93938819 -4558.13439385  1082.17381939]\n"
     ]
    }
   ],
   "source": [
    "# Construct columns\n",
    "col0 = np.ones_like(omegas_g)\n",
    "col1 = omegas_g\n",
    "col2 = omegas_g**2\n",
    "col3 = omegas_g**3\n",
    "col4 = omegas_g**4\n",
    "col5 = omegas_g**5\n",
    "\n",
    "# Construct matrix A\n",
    "A_g = np.column_stack([col0,col1,col2,col3,col4,col5])\n",
    "\n",
    "# Let matrix b bbe the alphas\n",
    "B_g = alphas_g\n",
    "\n",
    "# Solve with least squares\n",
    "coef2 = least_squares(A_g,B_g)\n",
    "print(coef1)\n",
    "\n",
    "# Create function\n",
    "def pol(x, a, b, c, d, e, f):\n",
    "    return a + b*x + c*x**2 + d*x**3 + e*x**4 + f*x**5\n",
    "\n",
    "alphas_P2 = pol(omegas_g, *coef2)"
   ]
  },
  {
   "cell_type": "code",
   "execution_count": 707,
   "id": "974101de",
   "metadata": {
    "ExecuteTime": {
     "end_time": "2021-09-20T20:53:58.392680Z",
     "start_time": "2021-09-20T20:53:58.171357Z"
    }
   },
   "outputs": [
    {
     "data": {
      "text/plain": [
       "[<matplotlib.lines.Line2D at 0x11ac51470>]"
      ]
     },
     "execution_count": 707,
     "metadata": {},
     "output_type": "execute_result"
    },
    {
     "data": {
      "image/png": "[encoded data removed]",
      "text/plain": [
       "<Figure size 864x432 with 1 Axes>"
      ]
     },
     "metadata": {
      "needs_background": "light"
     },
     "output_type": "display_data"
    }
   ],
   "source": [
    "# Plot\n",
    "fig, ax = plt.subplots(figsize=(12,6))\n",
    "ax.plot(omegas_g, alphas_g)\n",
    "ax.plot(omegas_g, alphas_P1)\n",
    "ax.plot(omegas_g, alphas_P2)"
   ]
  },
  {
   "cell_type": "code",
   "execution_count": 708,
   "id": "c218cb52",
   "metadata": {
    "ExecuteTime": {
     "end_time": "2021-09-20T20:54:12.204082Z",
     "start_time": "2021-09-20T20:54:11.729512Z"
    }
   },
   "outputs": [
    {
     "data": {
      "image/png": "[encoded data removed]",
      "text/plain": [
       "<Figure size 864x432 with 1 Axes>"
      ]
     },
     "metadata": {
      "needs_background": "light"
     },
     "output_type": "display_data"
    }
   ],
   "source": [
    "# Plot\n",
    "fig, ax = plt.subplots(figsize=(12,6))\n",
    "ax.plot(abs((alphas_P1-alphas_g)/alphas_g))\n",
    "ax.plot(abs((alphas_P2-alphas_g)/alphas_g))\n",
    "ax.set_yscale('log')"
   ]
  },
  {
   "cell_type": "markdown",
   "id": "dd0ea36f",
   "metadata": {},
   "source": [
    "missing one exponent thing"
   ]
  },
  {
   "cell_type": "markdown",
   "id": "e33cccc9",
   "metadata": {},
   "source": [
    "## h(1)"
   ]
  },
  {
   "cell_type": "code",
   "execution_count": 717,
   "id": "a6538987",
   "metadata": {
    "ExecuteTime": {
     "end_time": "2021-09-20T21:40:30.206870Z",
     "start_time": "2021-09-20T21:40:28.826976Z"
    }
   },
   "outputs": [
    {
     "name": "stdout",
     "output_type": "stream",
     "text": [
      "[ 0.73245626 -0.56503326  0.06227827 -1.48274436  0.53544673]\n"
     ]
    }
   ],
   "source": [
    "alhas_many = np.array(alphas_many)\n",
    "\n",
    "# Construct columns\n",
    "col0 = np.ones_like(omegas_many)\n",
    "col1 = omegas_many\n",
    "col2 = omegas_many**2\n",
    "col3 = -alhas_many*omegas_many\n",
    "col4 = -alhas_many*omegas_many**2\n",
    "\n",
    "# Construct matrix A\n",
    "A_h = np.column_stack([col0,col1,col2,col3,col4])\n",
    "\n",
    "# Let matrix b bbe the alphas\n",
    "B_h = alphas_many\n",
    "\n",
    "# Solve with least squares\n",
    "coef_h1 = least_squares(A_h,B_h)\n",
    "print(coef_h1)\n",
    "\n",
    "# Create function\n",
    "def Q_approx(x, a1, a2, a3, b1, b2):\n",
    "    alpha = solve_alpha(x)\n",
    "    a_term = a1 + a2*x + a3*x**2\n",
    "    b_term = b1*alpha*x + b2*alpha*x**2\n",
    "    return a_term - b_term\n",
    "\n",
    "alphas_Q1 = np.array([Q_approx(omegas_many[i], *coef_h1) for i in range(len(omegas_many))])"
   ]
  },
  {
   "cell_type": "code",
   "execution_count": 720,
   "id": "02592bde",
   "metadata": {
    "ExecuteTime": {
     "end_time": "2021-09-20T21:41:07.186308Z",
     "start_time": "2021-09-20T21:41:07.015765Z"
    }
   },
   "outputs": [
    {
     "data": {
      "text/plain": [
       "[<matplotlib.lines.Line2D at 0x11d752080>]"
      ]
     },
     "execution_count": 720,
     "metadata": {},
     "output_type": "execute_result"
    },
    {
     "data": {
      "image/png": "[encoded data removed]",
      "text/plain": [
       "<Figure size 864x432 with 1 Axes>"
      ]
     },
     "metadata": {
      "needs_background": "light"
     },
     "output_type": "display_data"
    }
   ],
   "source": [
    "# Plot\n",
    "fig, ax = plt.subplots(figsize=(12,6))\n",
    "ax.plot(omegas_many, alphas_many)\n",
    "ax.plot(omegas_many, alphas_Q1)"
   ]
  },
  {
   "cell_type": "code",
   "execution_count": 722,
   "id": "06d5cbde",
   "metadata": {
    "ExecuteTime": {
     "end_time": "2021-09-20T21:42:16.879643Z",
     "start_time": "2021-09-20T21:42:16.153161Z"
    }
   },
   "outputs": [
    {
     "data": {
      "image/png": "[encoded data removed]",
      "text/plain": [
       "<Figure size 864x432 with 1 Axes>"
      ]
     },
     "metadata": {
      "needs_background": "light"
     },
     "output_type": "display_data"
    }
   ],
   "source": [
    "# Plot\n",
    "fig, ax = plt.subplots(figsize=(12,6))\n",
    "ax.plot(abs((alphas_Q1-alphas_many)/alphas_many))\n",
    "ax.set_yscale('log')"
   ]
  },
  {
   "cell_type": "markdown",
   "id": "ae241699",
   "metadata": {},
   "source": [
    "## h(4)"
   ]
  },
  {
   "cell_type": "code",
   "execution_count": 741,
   "id": "2ea99f44",
   "metadata": {
    "ExecuteTime": {
     "end_time": "2021-09-20T21:52:43.944747Z",
     "start_time": "2021-09-20T21:52:40.696204Z"
    }
   },
   "outputs": [],
   "source": [
    "# Calculate alhpas in -4 to 4 interval\n",
    "omegas_44 = np.linspace(-4,4,3000)\n",
    "alphas_44 = np.array([solve_alpha(omegas_44[i]) for i in range(3000)])"
   ]
  },
  {
   "cell_type": "code",
   "execution_count": 745,
   "id": "b963b953",
   "metadata": {
    "ExecuteTime": {
     "end_time": "2021-09-20T21:54:54.873813Z",
     "start_time": "2021-09-20T21:54:44.782818Z"
    }
   },
   "outputs": [
    {
     "name": "stdout",
     "output_type": "stream",
     "text": [
      "[ 9.26078292e-01 -2.38787989e-12 -1.59377159e+00  1.29075733e-14\n",
      " -2.08566822e-03 -1.46617475e-12 -1.84239903e+00  1.01805229e-12\n",
      "  7.69065473e-01]\n"
     ]
    }
   ],
   "source": [
    "# Construct columns\n",
    "col0 = np.ones_like(omegas_44)\n",
    "col1 = omegas_44\n",
    "col2 = omegas_44**2\n",
    "col3 = omegas_44**3\n",
    "col4 = omegas_44**4\n",
    "col5 = -alphas_44*omegas_44\n",
    "col6 = -alphas_44*omegas_44**2\n",
    "col7 = -alphas_44*omegas_44**3\n",
    "col8 = -alphas_44*omegas_44**4\n",
    "\n",
    "# Construct matrix A\n",
    "A_h = np.column_stack([col0,col1,col2,col3,col4, col5, col6, col7, col8])\n",
    "\n",
    "# Let matrix b bbe the alphas\n",
    "B_h = alphas_44\n",
    "\n",
    "# Solve with least squares\n",
    "coef_h2 = least_squares(A_h,B_h)\n",
    "print(coef_h2)\n",
    "\n",
    "# Create function\n",
    "def Q_approx2(x, a1, a2, a3, a4, a5, b1, b2, b3, b4):\n",
    "    alpha = solve_alpha(x)\n",
    "    a_term = a1 + a2*x + a3*x**2 +a4*x**3 + a5*x**4\n",
    "    b_term = b1*alpha*x + b2*alpha*x**2 + b3*alpha*x**3 + b4*alpha*x**4\n",
    "    return a_term - b_term\n",
    "\n",
    "alphas_Q2 = np.array([Q_approx2(omegas_44[i], *coef_h2) for i in range(len(omegas_44))])"
   ]
  },
  {
   "cell_type": "code",
   "execution_count": 746,
   "id": "b239634a",
   "metadata": {
    "ExecuteTime": {
     "end_time": "2021-09-20T21:54:55.129839Z",
     "start_time": "2021-09-20T21:54:54.875774Z"
    }
   },
   "outputs": [
    {
     "data": {
      "text/plain": [
       "(-20.0, 40.0)"
      ]
     },
     "execution_count": 746,
     "metadata": {},
     "output_type": "execute_result"
    },
    {
     "data": {
      "image/png": "[encoded data removed]",
      "text/plain": [
       "<Figure size 864x432 with 1 Axes>"
      ]
     },
     "metadata": {
      "needs_background": "light"
     },
     "output_type": "display_data"
    }
   ],
   "source": [
    "# Plot\n",
    "fig, ax = plt.subplots(figsize=(12,6))\n",
    "ax.plot(omegas_44, alphas_44)\n",
    "ax.plot(omegas_44, alphas_Q2)\n",
    "#ax.set_xlim(1.2,4)\n",
    "ax.set_ylim(-20,40)"
   ]
  },
  {
   "cell_type": "code",
   "execution_count": 748,
   "id": "9834ee9d",
   "metadata": {
    "ExecuteTime": {
     "end_time": "2021-09-20T21:55:46.872101Z",
     "start_time": "2021-09-20T21:55:46.075783Z"
    }
   },
   "outputs": [
    {
     "data": {
      "image/png": "[encoded data removed]",
      "text/plain": [
       "<Figure size 864x432 with 1 Axes>"
      ]
     },
     "metadata": {
      "needs_background": "light"
     },
     "output_type": "display_data"
    }
   ],
   "source": [
    "# Plot\n",
    "fig, ax = plt.subplots(figsize=(12,6))\n",
    "ax.plot(abs((alphas_Q2-alphas_44)/alphas_44))\n",
    "ax.set_yscale('log')"
   ]
  },
  {
   "cell_type": "code",
   "execution_count": null,
   "id": "febfac66",
   "metadata": {},
   "outputs": [],
   "source": []
  }
 ],
 "metadata": {
  "kernelspec": {
   "display_name": "Python 3",
   "language": "python",
   "name": "python3"
  },
  "language_info": {
   "codemirror_mode": {
    "name": "ipython",
    "version": 3
   },
   "file_extension": ".py",
   "mimetype": "text/x-python",
   "name": "python",
   "nbconvert_exporter": "python",
   "pygments_lexer": "ipython3",
   "version": "3.6.12"
  },
  "toc": {
   "base_numbering": 1,
   "nav_menu": {},
   "number_sections": true,
   "sideBar": true,
   "skip_h1_title": false,
   "title_cell": "Table of Contents",
   "title_sidebar": "Contents",
   "toc_cell": false,
   "toc_position": {
    "height": "calc(100% - 180px)",
    "left": "10px",
    "top": "150px",
    "width": "165px"
   },
   "toc_section_display": true,
   "toc_window_display": true
  }
 },
 "nbformat": 4,
 "nbformat_minor": 5
}
